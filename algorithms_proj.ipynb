{
 "cells": [
  {
   "cell_type": "code",
   "execution_count": 2,
   "id": "7c43af29-db66-4689-aea0-219abee6d578",
   "metadata": {},
   "outputs": [],
   "source": [
    "import osmnx as ox\n",
    "import networkx as nx\n",
    "import matplotlib.pyplot as plt\n",
    "\n",
    "# Define the city or place you want to retrieve the graph for\n",
    "\n",
    "def get_graph(place_name):\n",
    "    # Retrieve the street network graph\n",
    "    graph = ox.graph_from_place(place_name, network_type='drive')\n",
    "    \n",
    "    # Plot the graph\n",
    "    fig, ax = ox.plot_graph(graph, figsize=(10, 10), node_size=0, edge_linewidth=0.5)\n",
    "    \n",
    "    # Show the plot\n",
    "    plt.show()\n",
    "    return graph"
   ]
  },
  {
   "cell_type": "code",
   "execution_count": 3,
   "id": "58d72903-2b16-4fcf-8367-87abc94c823a",
   "metadata": {},
   "outputs": [],
   "source": [
    "import heapq\n",
    "\n",
    "def dijkstra(graph, start):\n",
    "    # Priority queue to store (distance, node) pairs\n",
    "    queue = [(0, start)]\n",
    "    # Dictionary to store the shortest distance to each node\n",
    "    distances = {node: float('inf') for node in graph.nodes}\n",
    "    distances[start] = 0\n",
    "\n",
    "    while queue:\n",
    "        current_distance, current_node = heapq.heappop(queue)\n",
    "\n",
    "        # Explore neighbors\n",
    "        for neighbor, edge_data in graph[current_node].items():\n",
    "            distance = current_distance + edge_data[0].get('length', 1)  # Use edge length as weight\n",
    "            if distance < distances[neighbor]:\n",
    "                distances[neighbor] = distance\n",
    "                heapq.heappush(queue, (distance, neighbor))\n",
    "\n",
    "    return distances"
   ]
  },
  {
   "cell_type": "code",
   "execution_count": 4,
   "id": "5a9a75b9-6830-43c7-a1a6-f7d31b3ed93e",
   "metadata": {},
   "outputs": [],
   "source": [
    "# Define the origin point (latitude, longitude)\n",
    "# origin_point = (5, 11.5882)\n",
    "\n",
    "def find_closest_hospital(graph, hospital_nodes, origin_node, hospitals):\n",
    "    \n",
    "    # Compute shortest distances from the origin to all nodes\n",
    "    shortest_distances = dijkstra(graph, origin_node)\n",
    "    \n",
    "    # Find the closest hospital\n",
    "    closest_hospital = None\n",
    "    min_distance = float('inf')\n",
    "    \n",
    "    for i, hospital_node in enumerate(hospital_nodes):\n",
    "        distance = shortest_distances[hospital_node]\n",
    "        if distance < min_distance:\n",
    "            min_distance = distance\n",
    "            closest_hospital = hospitals.iloc[i]\n",
    "    \n",
    "    # Print the closest hospital\n",
    "    print(\"Closest Hospital:\")\n",
    "    print(closest_hospital[['name', 'geometry']])\n",
    "    print(f\"Distance: {min_distance:.2f} meters\")\n",
    "    return closest_hospital, min_distance\n"
   ]
  },
  {
   "cell_type": "code",
   "execution_count": 5,
   "id": "7b129c2e-b7b2-4768-95ae-e717f4d85d37",
   "metadata": {},
   "outputs": [],
   "source": [
    "import matplotlib.pyplot as plt\n",
    "\n",
    "def show_map_path(graph, closest_hospital, origin_point, origin_node, min_distance):\n",
    "    # Get the centroid or coordinates of the closest hospital\n",
    "    if closest_hospital.geometry.geom_type == 'Point':\n",
    "        hospital_coords = (closest_hospital.geometry.y, closest_hospital.geometry.x)\n",
    "    else:\n",
    "        hospital_coords = (closest_hospital.geometry.centroid.y, closest_hospital.geometry.centroid.x)\n",
    "    \n",
    "    # Find the nearest node to the closest hospital\n",
    "    closest_hospital_node = ox.distance.nearest_nodes(graph, hospital_coords[1], hospital_coords[0])\n",
    "    \n",
    "    # Get the shortest path to the closest hospital\n",
    "    shortest_path = nx.shortest_path(graph, origin_node, closest_hospital_node, weight='length')\n",
    "    \n",
    "    # Plot the graph and the shortest path\n",
    "    fig, ax = ox.plot_graph_route(graph, shortest_path, route_linewidth=6, node_size=0, figsize=(10, 10), show=False, close=False)\n",
    "    \n",
    "    # Plot the origin and closest hospital\n",
    "    ax.scatter(origin_point[1], origin_point[0], c='blue', s=100, label='Origin', zorder=5)\n",
    "    ax.scatter(hospital_coords[1], hospital_coords[0], c='red', s=100, label='Closest Hospital', zorder=5)\n",
    "    \n",
    "    # Add legend and title\n",
    "    plt.legend()\n",
    "    plt.title(f\"Closest Hospital: {closest_hospital['name']} ({min_distance:.2f} meters)\", fontsize=15)\n",
    "    \n",
    "    # Show the plot\n",
    "    plt.show()"
   ]
  },
  {
   "cell_type": "code",
   "execution_count": 6,
   "id": "02b315d6-92d1-4324-b5c3-b0dbe5d55b04",
   "metadata": {},
   "outputs": [],
   "source": [
    "def retrieve_city_graph(city):\n",
    "    place_name = f\"{city}, DE\"\n",
    "    graph = get_graph(place_name)\n",
    "    \n",
    "    # Retrieve all hospitals within the city boundaries\n",
    "    hospitals = ox.features_from_place(place_name, tags={'amenity': 'hospital'})\n",
    "    \n",
    "    # nodes, edges = ox.graph_to_gdfs(graph)\n",
    "    # Extract hospital geometries (latitude, longitude)\n",
    "    # hospital_points = hospitals.geometry.apply(lambda geom: (geom.y, geom.x))\n",
    "    # Extract centroid or coordinates for each hospital\n",
    "    hospital_points = hospitals.geometry.apply(\n",
    "        lambda geom: (geom.centroid.y, geom.centroid.x) if geom.geom_type != 'Point' else (geom.y, geom.x))\n",
    "    # Find the nearest graph node for each hospital\n",
    "    hospital_nodes = [ox.distance.nearest_nodes(graph, point[1], point[0]) for point in hospital_points]\n",
    "\n",
    "    return graph, hospital_nodes, hospitals"
   ]
  },
  {
   "cell_type": "code",
   "execution_count": 8,
   "id": "8363c539-489d-4e80-9dfa-43455ae5f0f9",
   "metadata": {},
   "outputs": [],
   "source": [
    "global_cities_cache = {}"
   ]
  },
  {
   "cell_type": "code",
   "execution_count": 7,
   "id": "98c1a2ae-27b1-413c-8f77-bb087088691c",
   "metadata": {},
   "outputs": [
    {
     "ename": "NameError",
     "evalue": "name 'global_cities_cache' is not defined",
     "output_type": "error",
     "traceback": [
      "\u001b[31m---------------------------------------------------------------------------\u001b[39m",
      "\u001b[31mNameError\u001b[39m                                 Traceback (most recent call last)",
      "\u001b[36mCell\u001b[39m\u001b[36m \u001b[39m\u001b[32mIn[7]\u001b[39m\u001b[32m, line 15\u001b[39m\n\u001b[32m     13\u001b[39m points = [ (\u001b[33m\"\u001b[39m\u001b[33mBerlin\u001b[39m\u001b[33m\"\u001b[39m, ( \u001b[32m52.53628\u001b[39m, \u001b[32m13.39388\u001b[39m)), (\u001b[33m\"\u001b[39m\u001b[33mBerlin\u001b[39m\u001b[33m\"\u001b[39m, (\u001b[32m52.51546\u001b[39m, \u001b[32m13.26861\u001b[39m)), (\u001b[33m\"\u001b[39m\u001b[33mMagdeburg\u001b[39m\u001b[33m\"\u001b[39m, (\u001b[32m52.1383\u001b[39m, \u001b[32m11.6071\u001b[39m)), (\u001b[33m\"\u001b[39m\u001b[33mMagdeburg\u001b[39m\u001b[33m\"\u001b[39m, (\u001b[32m52.09048\u001b[39m, \u001b[32m11.61770\u001b[39m)), (\u001b[33m\"\u001b[39m\u001b[33mMagdeburg\u001b[39m\u001b[33m\"\u001b[39m, (\u001b[32m52.09043\u001b[39m, \u001b[32m11.64911\u001b[39m))]\n\u001b[32m     14\u001b[39m \u001b[38;5;28;01mfor\u001b[39;00m point \u001b[38;5;129;01min\u001b[39;00m points:\n\u001b[32m---> \u001b[39m\u001b[32m15\u001b[39m     \u001b[43mmain\u001b[49m\u001b[43m(\u001b[49m\u001b[43mpoint\u001b[49m\u001b[43m[\u001b[49m\u001b[32;43m0\u001b[39;49m\u001b[43m]\u001b[49m\u001b[43m,\u001b[49m\u001b[43m \u001b[49m\u001b[43mpoint\u001b[49m\u001b[43m[\u001b[49m\u001b[32;43m1\u001b[39;49m\u001b[43m]\u001b[49m\u001b[43m)\u001b[49m\n",
      "\u001b[36mCell\u001b[39m\u001b[36m \u001b[39m\u001b[32mIn[7]\u001b[39m\u001b[32m, line 2\u001b[39m, in \u001b[36mmain\u001b[39m\u001b[34m(city, point)\u001b[39m\n\u001b[32m      1\u001b[39m \u001b[38;5;28;01mdef\u001b[39;00m\u001b[38;5;250m \u001b[39m\u001b[34mmain\u001b[39m(city, point):\n\u001b[32m----> \u001b[39m\u001b[32m2\u001b[39m     \u001b[38;5;28;01mif\u001b[39;00m city \u001b[38;5;129;01min\u001b[39;00m \u001b[43mglobal_cities_cache\u001b[49m:\n\u001b[32m      3\u001b[39m         graph, hospital_nodes, hospitals = global_cities_cache[city]\n\u001b[32m      4\u001b[39m     \u001b[38;5;28;01melse\u001b[39;00m: \n",
      "\u001b[31mNameError\u001b[39m: name 'global_cities_cache' is not defined"
     ]
    }
   ],
   "source": [
    "def main(city, point):\n",
    "    if city in global_cities_cache:\n",
    "        graph, hospital_nodes, hospitals = global_cities_cache[city]\n",
    "    else: \n",
    "        graph, hospital_nodes, hospitals = retrieve_city_graph(city)\n",
    "        global_cities_cache[city] = [graph, hospital_nodes, hospitals]\n",
    "        \n",
    "    origin_node = ox.distance.nearest_nodes(graph, point[1], point[0])\n",
    "    closest_hospital, min_distance = find_closest_hospital(graph, hospital_nodes, origin_node, hospitals)\n",
    "\n",
    "    show_map_path(graph, closest_hospital, point, origin_node, min_distance)\n",
    "    \n",
    "points = [ (\"Berlin\", ( 52.53628, 13.39388)), (\"Berlin\", (52.51546, 13.26861)), (\"Magdeburg\", (52.1383, 11.6071)), (\"Magdeburg\", (52.09048, 11.61770)), (\"Magdeburg\", (52.09043, 11.64911))]\n",
    "for point in points:\n",
    "    main(point[0], point[1])"
   ]
  }
 ],
 "metadata": {
  "kernelspec": {
   "display_name": "Python 3 (ipykernel)",
   "language": "python",
   "name": "python3"
  },
  "language_info": {
   "codemirror_mode": {
    "name": "ipython",
    "version": 3
   },
   "file_extension": ".py",
   "mimetype": "text/x-python",
   "name": "python",
   "nbconvert_exporter": "python",
   "pygments_lexer": "ipython3",
   "version": "3.11.4"
  }
 },
 "nbformat": 4,
 "nbformat_minor": 5
}
